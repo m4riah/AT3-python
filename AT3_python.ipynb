{
  "nbformat": 4,
  "nbformat_minor": 0,
  "metadata": {
    "colab": {
      "provenance": [],
      "authorship_tag": "ABX9TyOoVtSBBG0DaH4F8d2ZXMVH",
      "include_colab_link": true
    },
    "kernelspec": {
      "name": "python3",
      "display_name": "Python 3"
    },
    "language_info": {
      "name": "python"
    }
  },
  "cells": [
    {
      "cell_type": "markdown",
      "metadata": {
        "id": "view-in-github",
        "colab_type": "text"
      },
      "source": [
        "<a href=\"https://colab.research.google.com/github/m4riah/AT3-python/blob/main/AT3_python.ipynb\" target=\"_parent\"><img src=\"https://colab.research.google.com/assets/colab-badge.svg\" alt=\"Open In Colab\"/></a>"
      ]
    },
    {
      "cell_type": "code",
      "execution_count": null,
      "metadata": {
        "id": "W01OGHi55_1A"
      },
      "outputs": [],
      "source": [
        "def merge_vetores(vetor1, vetor2):\n",
        "    tamanho1 = len(vetor1)\n",
        "    tamanho2 = len(vetor2)\n",
        "    indice1 = 0\n",
        "    indice2 = 0\n",
        "    resultado = []\n",
        "\n",
        "    while indice1 < tamanho1 and indice2 < tamanho2:\n",
        "        if vetor1[indice1] <= vetor2[indice2]:\n",
        "            resultado.append(vetor1[indice1])\n",
        "            indice1 += 1\n",
        "        else:\n",
        "            resultado.append(vetor2[indice2])\n",
        "            indice2 += 1\n",
        "\n",
        "    # Adicionar os elementos restantes do vetor1, se houver\n",
        "    while indice1 < tamanho1:\n",
        "        resultado.append(vetor1[indice1])\n",
        "        indice1 += 1\n",
        "\n",
        "    # Adicionar os elementos restantes do vetor2, se houver\n",
        "    while indice2 < tamanho2:\n",
        "        resultado.append(vetor2[indice2])\n",
        "        indice2 += 1\n",
        "\n",
        "    return resultado\n"
      ]
    }
  ]
}